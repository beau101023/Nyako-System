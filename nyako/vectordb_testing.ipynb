{
 "cells": [
  {
   "cell_type": "code",
   "execution_count": 6,
   "metadata": {},
   "outputs": [
    {
     "name": "stdout",
     "output_type": "stream",
     "text": [
      "3: Nyako expressed gratitude for the compliment from Beau and asked if there were any other requests.\n",
      "4: Nyako reveals that her favorite pizza has catnip, anchovies, and smoky salmon.\n",
      "\n",
      "\n",
      "5: - Beau expresses surprise at the idea of catnip on pizza, but acknowledges that catgirls might enjoy herbs as well.\n",
      "- Nyako enthusiastically agrees, stating that catnip is perfect on everything, including pizza.\n",
      "--------------------\n"
     ]
    }
   ],
   "source": [
    "from vectordb.nyako_ltm import *\n",
    "\n",
    "results = retrieveMemoriesWithContext(\"pizza\", 1, 1)\n",
    "\n",
    "for result in results:\n",
    "    for memory in result:\n",
    "        print(str(memory.insertionOrdinal) + \": \" + memory.text)\n",
    "    print(\"--------------------\")"
   ]
  }
 ],
 "metadata": {
  "kernelspec": {
   "display_name": "Python 3",
   "language": "python",
   "name": "python3"
  },
  "language_info": {
   "codemirror_mode": {
    "name": "ipython",
    "version": 3
   },
   "file_extension": ".py",
   "mimetype": "text/x-python",
   "name": "python",
   "nbconvert_exporter": "python",
   "pygments_lexer": "ipython3",
   "version": "3.11.6"
  },
  "orig_nbformat": 4
 },
 "nbformat": 4,
 "nbformat_minor": 2
}
