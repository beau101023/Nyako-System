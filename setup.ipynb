{
 "cells": [
  {
   "cell_type": "code",
   "execution_count": null,
   "metadata": {},
   "outputs": [],
   "source": [
    "# audio input reqs\n",
    "%pip install -q pyaudio\n",
    "%pip install -q ffmpeg\n",
    "\n",
    "# silero reqs\n",
    "%pip install -q torch torchaudio --index-url https://download.pytorch.org/whl/cu118\n",
    "%pip install -q onnxruntime\n",
    "\n",
    "# pycord reqs\n",
    "%pip install -q pycord"
   ]
  },
  {
   "cell_type": "code",
   "execution_count": null,
   "metadata": {},
   "outputs": [],
   "source": [
    "# create .gitignore'd settings file to be modified\n",
    "# DON'T RUN THIS if you've got settings you want to keep, it will overwrite them\n",
    "import shutil\n",
    "\n",
    "shutil.copy('settings_default.py', 'settings.py')"
   ]
  }
 ],
 "metadata": {
  "kernelspec": {
   "display_name": "Python 3",
   "language": "python",
   "name": "python3"
  },
  "language_info": {
   "codemirror_mode": {
    "name": "ipython",
    "version": 3
   },
   "file_extension": ".py",
   "mimetype": "text/x-python",
   "name": "python",
   "nbconvert_exporter": "python",
   "pygments_lexer": "ipython3",
   "version": "3.11.5"
  },
  "orig_nbformat": 4
 },
 "nbformat": 4,
 "nbformat_minor": 2
}
