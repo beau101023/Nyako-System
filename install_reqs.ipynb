{
 "cells": [
  {
   "cell_type": "code",
   "execution_count": null,
   "metadata": {},
   "outputs": [],
   "source": [
    "# audio input reqs\n",
    "%pip install -q pyaudio\n",
    "%pip install -q ffmpeg\n",
    "\n",
    "# silero reqs\n",
    "%pip install -q torch torchaudio --index-url https://download.pytorch.org/whl/cu118\n",
    "%pip install -q onnxruntime"
   ]
  }
 ],
 "metadata": {
  "language_info": {
   "name": "python"
  },
  "orig_nbformat": 4
 },
 "nbformat": 4,
 "nbformat_minor": 2
}
